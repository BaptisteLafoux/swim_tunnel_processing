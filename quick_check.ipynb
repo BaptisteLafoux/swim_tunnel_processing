{
 "cells": [
  {
   "cell_type": "code",
   "execution_count": 1,
   "id": "feedcff1-18d9-4295-b99d-d7de28e33018",
   "metadata": {},
   "outputs": [],
   "source": [
    "import xarray as xr\n",
    "from utils.geom import fourier2space, space2fourier\n",
    "\n",
    "import matplotlib.pyplot as plt \n",
    "import numpy as np \n",
    "import cv2 \n",
    "\n",
    "%matplotlib widget"
   ]
  },
  {
   "cell_type": "code",
   "execution_count": 190,
   "id": "688c3b8f-cb45-4217-bdda-46fe95d68300",
   "metadata": {},
   "outputs": [],
   "source": [
    "ds_file = 'clean_data/20220324_F1_V8_L1_1.nc'\n",
    "ds = xr.open_dataset(ds_file)\n",
    "\n",
    "cap = cv2.VideoCapture(ds.path_movie)"
   ]
  },
  {
   "cell_type": "code",
   "execution_count": 195,
   "id": "fbddaccb-a3e3-4742-97ea-9fb03bfb28c0",
   "metadata": {},
   "outputs": [
    {
     "data": {
      "application/vnd.jupyter.widget-view+json": {
       "model_id": "2773906016444424962e7fd0dd70bb62",
       "version_major": 2,
       "version_minor": 0
      },
      "text/plain": [
       "Canvas(toolbar=Toolbar(toolitems=[('Home', 'Reset original view', 'home', 'home'), ('Back', 'Back to previous …"
      ]
     },
     "metadata": {},
     "output_type": "display_data"
    },
    {
     "data": {
      "text/plain": [
       "(851.9438682702852, 1051.9507390740189, 97.36065268068887, 235.29272337735415)"
      ]
     },
     "execution_count": 195,
     "metadata": {},
     "output_type": "execute_result"
    }
   ],
   "source": [
    "plt.close('all') \n",
    "fig, ax = plt.subplots(figsize=(9,5))\n",
    "\n",
    "c = fourier2space(ds.c[..., 0]+1j*ds.c[..., 1], 200) \n",
    "\n",
    "t = 1200\n",
    "\n",
    "cap.set(cv2.CAP_PROP_POS_FRAMES, t)\n",
    "\n",
    "_, frame = cap.read()\n",
    "\n",
    "frame = frame[ds.ROI[0]:ds.ROI[1], ds.ROI[2]:ds.ROI[3]]\n",
    "ax.imshow(frame, cmap='Greys_r')\n",
    "ax.plot(ds.l[:, 0, 0, 0], ds.l[:, 0, 0, 1]) \n",
    "ax.plot(ds.l[t , 0, :, 0], ds.l[t , 0, :, 1], 'wo')\n",
    "#ax.plot(c[t, 0, :, 0], c[t, 0, :, 1], 'w-')\n",
    "\n",
    "ax.axis('scaled') \n",
    "ax.axis([np.min(ds.l[...,0]), np.max(ds.l[...,0]), np.min(ds.l[...,1]), np.max(ds.l[...,1])]) "
   ]
  },
  {
   "cell_type": "code",
   "execution_count": 214,
   "id": "385a074c-6a92-44df-a1ee-919ceb52c1e2",
   "metadata": {},
   "outputs": [],
   "source": [
    "from scipy import interpolate\n",
    "\n",
    "def curv(cline, n_points):\n",
    "    (t, c, k), _ = interpolate.splprep([cline[..., 0], cline[..., 1]], k=5, s=100)\n",
    "\n",
    "    u = np.linspace(0, 1, n_points)\n",
    "    xp,  yp  = interpolate.splev(u, (t, c, k), der=1)\n",
    "    xpp, ypp = interpolate.splev(u, (t, c, k), der=2)\n",
    "\n",
    "    curv = (xp**2 + yp**2) ** (3/2) / (xp*ypp - yp*xpp)\n",
    "    \n",
    "    return curv, u\n"
   ]
  },
  {
   "cell_type": "code",
   "execution_count": 222,
   "id": "9db17dad-88fd-4a0d-a64f-ef397595d41e",
   "metadata": {},
   "outputs": [
    {
     "data": {
      "application/vnd.jupyter.widget-view+json": {
       "model_id": "831966efb9e849eabf2ec3cca8bed459",
       "version_major": 2,
       "version_minor": 0
      },
      "text/plain": [
       "Canvas(toolbar=Toolbar(toolitems=[('Home', 'Reset original view', 'home', 'home'), ('Back', 'Back to previous …"
      ]
     },
     "metadata": {},
     "output_type": "display_data"
    },
    {
     "data": {
      "text/plain": [
       "<matplotlib.legend.Legend at 0x7ff3d3370d90>"
      ]
     },
     "execution_count": 222,
     "metadata": {},
     "output_type": "execute_result"
    }
   ],
   "source": [
    "t = 202\n",
    "\n",
    "C, u = curv(ds.l[t , 0], 50)\n",
    "\n",
    "spline_function, _ = interpolate.splprep([ds.l[t , 0, :, 0], ds.l[t , 0, :, 1]], k=5, s=100)\n",
    "x, y = interpolate.splev(u, spline_function)\n",
    "xp,  yp  = interpolate.splev(u, spline_function, der=1)\n",
    "xpp, ypp = interpolate.splev(u, spline_function, der=2)\n",
    "\n",
    "cap.set(cv2.CAP_PROP_POS_FRAMES, t)\n",
    "\n",
    "_, frame = cap.read(); frame = frame[ds.ROI[0]:ds.ROI[1], ds.ROI[2]:ds.ROI[3]]\n",
    "\n",
    "fig, ax = plt.subplots(1, 3, figsize=(16, 5)) \n",
    "\n",
    "ax[0].plot(u, 1 / C, 'o'); ax[0].set_ylim([-1e-1, 1e-1]); ax[0].axhline(0, ls='-', c='k', lw=0.75)\n",
    "\n",
    "ax[1].imshow(frame, cmap='Greys_r')\n",
    "\n",
    "ax[1].plot(ds.l[t , 0, :, 0], ds.l[t , 0, :, 1], 'r.-', lw=3)\n",
    "ax[1].plot(x, y, 'w-')\n",
    "ax[1].axis('scaled') \n",
    "ax[1].axis([np.min(ds.l[...,0]), np.max(ds.l[...,0]), np.min(ds.l[...,1]), np.max(ds.l[...,1])]) \n",
    "\n",
    "ax[2].plot(u, xp, '-o', label='xp')\n",
    "ax[2].plot(u, xpp, '-o', label='xpp')\n",
    "ax[2].plot(u, yp, '-o', label='yp')\n",
    "ax[2].plot(u, ypp, '-o', label='ypp')\n",
    "\n",
    "ax[2].legend() "
   ]
  },
  {
   "cell_type": "markdown",
   "id": "0a866d46",
   "metadata": {},
   "source": [
    "# Test extaction fourier coefficient CL "
   ]
  },
  {
   "cell_type": "code",
   "execution_count": 249,
   "id": "b42b01eb",
   "metadata": {},
   "outputs": [
    {
     "data": {
      "application/vnd.jupyter.widget-view+json": {
       "model_id": "923cb80dea71476189d83c946b854554",
       "version_major": 2,
       "version_minor": 0
      },
      "text/plain": [
       "Canvas(toolbar=Toolbar(toolitems=[('Home', 'Reset original view', 'home', 'home'), ('Back', 'Back to previous …"
      ]
     },
     "metadata": {},
     "output_type": "display_data"
    },
    {
     "data": {
      "text/plain": [
       "[<matplotlib.lines.Line2D at 0x7ff3bd4b5a00>]"
      ]
     },
     "execution_count": 249,
     "metadata": {},
     "output_type": "execute_result"
    }
   ],
   "source": [
    "def autocorr(x):\n",
    "    result = np.correlate(x, x, mode='full')\n",
    "    return result[result.size // 2:]\n",
    "\n",
    "fig, ax = plt.subplots(1, 3, figsize=(18, 5)) \n",
    "\n",
    "ax[0].plot(ds.time, ds.l[:,0,-1,1], '.-')\n",
    "\n",
    "fft = np.fft.fft(ds.l[:,0,-1,1])\n",
    "freq = np.fft.fftfreq(ds.time.size, d=1/ds.fps)\n",
    "ax[1].plot(freq, fft.real, 'o', freq, fft.imag, 'o')\n",
    "ax[1].set_xlim([0, 2])\n",
    "ax[1].set_yscale('log')\n",
    "\n",
    "ax[2].plot(autocorr(ds.l[:,0,-1,1]), 'o')"
   ]
  },
  {
   "cell_type": "code",
   "execution_count": 230,
   "id": "9a06b78d",
   "metadata": {},
   "outputs": [
    {
     "data": {
      "text/plain": [
       "array([310033.34956138+3.31112915e-12j,    829.27072776+6.88394093e+03j,\n",
       "        -1131.27203915+1.83396786e+03j, ...,\n",
       "         -452.94684291-4.12444627e+03j,  -1131.27203915-1.83396786e+03j,\n",
       "          829.27072776-6.88394093e+03j])"
      ]
     },
     "execution_count": 230,
     "metadata": {},
     "output_type": "execute_result"
    }
   ],
   "source": [
    "fft"
   ]
  },
  {
   "cell_type": "code",
   "execution_count": 239,
   "id": "2ed55727",
   "metadata": {},
   "outputs": [
    {
     "data": {
      "text/plain": [
       "array([ 0.        ,  0.00066534,  0.00133067, ..., -0.00199601,\n",
       "       -0.00133067, -0.00066534])"
      ]
     },
     "execution_count": 239,
     "metadata": {},
     "output_type": "execute_result"
    }
   ],
   "source": [
    "freq"
   ]
  },
  {
   "cell_type": "code",
   "execution_count": 1,
   "id": "f0fdc17f",
   "metadata": {},
   "outputs": [],
   "source": [
    "import numpy as np \n",
    "L = 35\n",
    "x = np.linspace(0, L)\n",
    "\n",
    "pos = 4\n",
    "import matplotlib.pyplot as plt \n",
    "\n",
    "fig, ax plt.subplots() \n",
    "\n",
    "ax.plot(x, x, )[35/255, 83/255, 137/255]"
   ]
  },
  {
   "cell_type": "code",
   "execution_count": 2,
   "id": "aa30e369",
   "metadata": {},
   "outputs": [
    {
     "data": {
      "text/plain": [
       "[0.13725490196078433, 0.3254901960784314, 0.5372549019607843]"
      ]
     },
     "execution_count": 2,
     "metadata": {},
     "output_type": "execute_result"
    }
   ],
   "source": [
    "[35/255, 83/255, 137/255]"
   ]
  },
  {
   "cell_type": "code",
   "execution_count": null,
   "id": "8775f47e",
   "metadata": {},
   "outputs": [],
   "source": []
  }
 ],
 "metadata": {
  "kernelspec": {
   "display_name": "Python 3 (ipykernel)",
   "language": "python",
   "name": "python3"
  },
  "language_info": {
   "codemirror_mode": {
    "name": "ipython",
    "version": 3
   },
   "file_extension": ".py",
   "mimetype": "text/x-python",
   "name": "python",
   "nbconvert_exporter": "python",
   "pygments_lexer": "ipython3",
   "version": "3.8.12"
  }
 },
 "nbformat": 4,
 "nbformat_minor": 5
}
